{
 "cells": [
  {
   "cell_type": "code",
   "execution_count": 1,
   "metadata": {},
   "outputs": [],
   "source": [
    "import nltk\n",
    "from nltk import word_tokenize\n",
    "from nltk.corpus import conll2002\n",
    "from nltk.chunk import conlltags2tree, tree2conlltags\n",
    "from nltk.tag import UnigramTagger, BigramTagger\n"
   ]
  },
  {
   "cell_type": "code",
   "execution_count": 2,
   "metadata": {},
   "outputs": [],
   "source": [
    "# Define your custom tagged dataset\n",
    "custom_tagged_data = [\n",
    "    (\"usthb\", \"ORG\"),\n",
    "    (\"is\", \"O\"),\n",
    "    (\"an\", \"O\"),\n",
    "    (\"Algerian\", \"O\"),\n",
    "    (\"university\", \"O\"),\n",
    "    (\"lria\", \"ORG\"),\n",
    "]\n",
    "\n",
    "# Split the dataset into sentences\n",
    "custom_tagged_sentences = [custom_tagged_data]\n",
    "\n",
    "# Define your custom labeled dataset for COLOR NER tagging\n",
    "color_tagged_data = [\n",
    "    (\"the\", \"O\"),\n",
    "    (\"sky\", \"COLOR\"),\n",
    "    (\"is\", \"O\"),\n",
    "    (\"blue\", \"COLOR\"),\n",
    "]\n",
    "\n",
    "# Split the dataset into sentences\n",
    "color_tagged_sentences = [color_tagged_data]\n"
   ]
  },
  {
   "cell_type": "code",
   "execution_count": 3,
   "metadata": {},
   "outputs": [
    {
     "name": "stdout",
     "output_type": "stream",
     "text": [
      "POS Tags: [('usthb', 'ORG'), ('is', 'O'), ('an', 'O'), ('Algerian', 'O'), ('university', 'O')]\n"
     ]
    }
   ],
   "source": []
  },
  {
   "cell_type": "code",
   "execution_count": 14,
   "metadata": {},
   "outputs": [],
   "source": [
    "import spacy\n",
    "from spacy.training.example import Example\n",
    "\n",
    "nlp = spacy.load(\"en_core_web_sm\")\n",
    "\n",
    "# Define a function to update the NER annotations for your custom entities\n",
    "def update_ner(ner, texts, annotations):\n",
    "    for text, annotation in zip(texts, annotations):\n",
    "        doc = nlp.make_doc(text)\n",
    "        gold = Example.from_dict(doc, {\"entities\": annotation})\n",
    "        ner.update([gold])\n",
    "\n",
    "# Define the training data with custom entities and labels\n",
    "texts = [\"usthb is an Algerian university\", \"the sky is blue\"]\n",
    "annotations = [\n",
    "    [(0, 4, \"ORG\"), (5, 10, \"ORG\")],\n",
    "    [(4, 7, \"COLOR\")]\n",
    "]\n",
    "\n",
    "# Update NER annotations with custom entities\n",
    "update_ner(nlp.get_pipe(\"ner\"), texts, annotations)\n",
    "\n",
    "# Save the updated model\n",
    "nlp.to_disk(\"custom_ner_model\")\n"
   ]
  },
  {
   "cell_type": "code",
   "execution_count": 15,
   "metadata": {},
   "outputs": [
    {
     "name": "stdout",
     "output_type": "stream",
     "text": [
      "Text: usthb, Label: ORG\n",
      "Text: Algeria, Label: GPE\n",
      "Text: Algeria, Label: GPE\n",
      "Text: algeria, Label: GPE\n"
     ]
    }
   ],
   "source": [
    "# Load the custom NER model\n",
    "nlp_custom_ner = spacy.load(\"custom_ner_model\")\n",
    "\n",
    "# Test the NER tagging\n",
    "test_sentences = [\"usthb is a university Algeria in Algeria.\", \"the algeria sky is blue.\"]\n",
    "for sentence in test_sentences:\n",
    "    doc = nlp_custom_ner(sentence)\n",
    "    for ent in doc.ents:\n",
    "        print(f\"Text: {ent.text}, Label: {ent.label_}\")\n"
   ]
  }
 ],
 "metadata": {
  "kernelspec": {
   "display_name": "Python 3",
   "language": "python",
   "name": "python3"
  },
  "language_info": {
   "codemirror_mode": {
    "name": "ipython",
    "version": 3
   },
   "file_extension": ".py",
   "mimetype": "text/x-python",
   "name": "python",
   "nbconvert_exporter": "python",
   "pygments_lexer": "ipython3",
   "version": "3.11.5"
  }
 },
 "nbformat": 4,
 "nbformat_minor": 2
}
