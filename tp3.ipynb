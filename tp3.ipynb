{
 "cells": [
  {
   "cell_type": "code",
   "execution_count": 1,
   "metadata": {},
   "outputs": [],
   "source": [
    "import plac\n",
    "import spacy\n",
    "import random \n",
    "from pathlib import Path\n",
    "from spacy.training.example import Example\n"
   ]
  },
  {
   "cell_type": "code",
   "execution_count": 10,
   "metadata": {},
   "outputs": [
    {
     "ename": "ValueError",
     "evalue": "[E143] Labels for component 'tagger' not initialized. This can be fixed by calling add_label, or by providing a representative batch of examples to the component's `initialize` method.",
     "output_type": "error",
     "traceback": [
      "\u001b[1;31m---------------------------------------------------------------------------\u001b[0m",
      "\u001b[1;31mValueError\u001b[0m                                Traceback (most recent call last)",
      "\u001b[1;32mc:\\Users\\Mouaz\\Desktop\\hamza\\Tp_TAL\\tp3.ipynb Cell 2\u001b[0m line \u001b[0;36m1\n\u001b[0;32m     <a href='vscode-notebook-cell:/c%3A/Users/Mouaz/Desktop/hamza/Tp_TAL/tp3.ipynb#W1sZmlsZQ%3D%3D?line=15'>16</a>\u001b[0m     tagger\u001b[39m.\u001b[39madd_label(tag)\n\u001b[0;32m     <a href='vscode-notebook-cell:/c%3A/Users/Mouaz/Desktop/hamza/Tp_TAL/tp3.ipynb#W1sZmlsZQ%3D%3D?line=17'>18</a>\u001b[0m nlp\u001b[39m.\u001b[39madd_pipe(\u001b[39m'\u001b[39m\u001b[39mtagger\u001b[39m\u001b[39m'\u001b[39m)\n\u001b[1;32m---> <a href='vscode-notebook-cell:/c%3A/Users/Mouaz/Desktop/hamza/Tp_TAL/tp3.ipynb#W1sZmlsZQ%3D%3D?line=18'>19</a>\u001b[0m optimizer \u001b[39m=\u001b[39m nlp\u001b[39m.\u001b[39;49mbegin_training()\n\u001b[0;32m     <a href='vscode-notebook-cell:/c%3A/Users/Mouaz/Desktop/hamza/Tp_TAL/tp3.ipynb#W1sZmlsZQ%3D%3D?line=20'>21</a>\u001b[0m \u001b[39mfor\u001b[39;00m i \u001b[39min\u001b[39;00m \u001b[39mrange\u001b[39m(\u001b[39m25\u001b[39m):\n\u001b[0;32m     <a href='vscode-notebook-cell:/c%3A/Users/Mouaz/Desktop/hamza/Tp_TAL/tp3.ipynb#W1sZmlsZQ%3D%3D?line=21'>22</a>\u001b[0m     random\u001b[39m.\u001b[39mshuffle(TRAIN_DATA)\n",
      "File \u001b[1;32mc:\\Users\\Mouaz\\AppData\\Local\\Programs\\Python\\Python311\\Lib\\site-packages\\spacy\\language.py:1287\u001b[0m, in \u001b[0;36mLanguage.begin_training\u001b[1;34m(self, get_examples, sgd)\u001b[0m\n\u001b[0;32m   1280\u001b[0m \u001b[39mdef\u001b[39;00m \u001b[39mbegin_training\u001b[39m(\n\u001b[0;32m   1281\u001b[0m     \u001b[39mself\u001b[39m,\n\u001b[0;32m   1282\u001b[0m     get_examples: Optional[Callable[[], Iterable[Example]]] \u001b[39m=\u001b[39m \u001b[39mNone\u001b[39;00m,\n\u001b[0;32m   1283\u001b[0m     \u001b[39m*\u001b[39m,\n\u001b[0;32m   1284\u001b[0m     sgd: Optional[Optimizer] \u001b[39m=\u001b[39m \u001b[39mNone\u001b[39;00m,\n\u001b[0;32m   1285\u001b[0m ) \u001b[39m-\u001b[39m\u001b[39m>\u001b[39m Optimizer:\n\u001b[0;32m   1286\u001b[0m     warnings\u001b[39m.\u001b[39mwarn(Warnings\u001b[39m.\u001b[39mW089, \u001b[39mDeprecationWarning\u001b[39;00m)\n\u001b[1;32m-> 1287\u001b[0m     \u001b[39mreturn\u001b[39;00m \u001b[39mself\u001b[39;49m\u001b[39m.\u001b[39;49minitialize(get_examples, sgd\u001b[39m=\u001b[39;49msgd)\n",
      "File \u001b[1;32mc:\\Users\\Mouaz\\AppData\\Local\\Programs\\Python\\Python311\\Lib\\site-packages\\spacy\\language.py:1349\u001b[0m, in \u001b[0;36mLanguage.initialize\u001b[1;34m(self, get_examples, sgd)\u001b[0m\n\u001b[0;32m   1345\u001b[0m         p_settings \u001b[39m=\u001b[39m I[\u001b[39m\"\u001b[39m\u001b[39mcomponents\u001b[39m\u001b[39m\"\u001b[39m]\u001b[39m.\u001b[39mget(name, {})\n\u001b[0;32m   1346\u001b[0m         p_settings \u001b[39m=\u001b[39m validate_init_settings(\n\u001b[0;32m   1347\u001b[0m             proc\u001b[39m.\u001b[39minitialize, p_settings, section\u001b[39m=\u001b[39m\u001b[39m\"\u001b[39m\u001b[39mcomponents\u001b[39m\u001b[39m\"\u001b[39m, name\u001b[39m=\u001b[39mname\n\u001b[0;32m   1348\u001b[0m         )\n\u001b[1;32m-> 1349\u001b[0m         proc\u001b[39m.\u001b[39;49minitialize(get_examples, nlp\u001b[39m=\u001b[39;49m\u001b[39mself\u001b[39;49m, \u001b[39m*\u001b[39;49m\u001b[39m*\u001b[39;49mp_settings)\n\u001b[0;32m   1350\u001b[0m pretrain_cfg \u001b[39m=\u001b[39m config\u001b[39m.\u001b[39mget(\u001b[39m\"\u001b[39m\u001b[39mpretraining\u001b[39m\u001b[39m\"\u001b[39m)\n\u001b[0;32m   1351\u001b[0m \u001b[39mif\u001b[39;00m pretrain_cfg:\n",
      "File \u001b[1;32mc:\\Users\\Mouaz\\AppData\\Local\\Programs\\Python\\Python311\\Lib\\site-packages\\spacy\\pipeline\\tagger.pyx:299\u001b[0m, in \u001b[0;36mspacy.pipeline.tagger.Tagger.initialize\u001b[1;34m()\u001b[0m\n",
      "File \u001b[1;32mc:\\Users\\Mouaz\\AppData\\Local\\Programs\\Python\\Python311\\Lib\\site-packages\\spacy\\pipeline\\pipe.pyx:121\u001b[0m, in \u001b[0;36mspacy.pipeline.pipe.Pipe._require_labels\u001b[1;34m()\u001b[0m\n",
      "\u001b[1;31mValueError\u001b[0m: [E143] Labels for component 'tagger' not initialized. This can be fixed by calling add_label, or by providing a representative batch of examples to the component's `initialize` method."
     ]
    }
   ],
   "source": [
    "\n",
    "TAG_MAP = {\n",
    "    'N': {'pos': 'NOUN'},\n",
    "    'V': {'pos': 'VERB'},\n",
    "    'J': {'pos': 'ADJ'}\n",
    "}\n",
    "\n",
    "TRAIN_DATA = [\n",
    "    (\"I like green eggs\", {'tags': ['N', 'V', 'J', 'N']}),\n",
    "    (\"Eat blue ham\", {'tags': ['V', 'J', 'N']})\n",
    "]\n",
    "\n",
    "nlp = spacy.blank('en')\n",
    "tagger = nlp.create_pipe('tagger')\n",
    "\n",
    "for tag, values in TAG_MAP.items():\n",
    "    #tagger.add_label(tag, values)\n",
    "    tagger\n",
    "\n",
    "nlp.add_pipe('tagger')\n",
    "optimizer = nlp.begin_training()\n",
    "\n",
    "for i in range(25):\n",
    "    random.shuffle(TRAIN_DATA)\n",
    "    losses = {}\n",
    "    for text, annotations in TRAIN_DATA:\n",
    "        nlp.update([text], [annotations], sgd=optimizer, losses=losses)\n",
    "    print(losses)\n",
    "\n",
    "test_text = \"I like blue eggs\"\n",
    "doc = nlp(test_text)\n",
    "print('Tags', [(t.text, t.tag, t.pos_) for t in doc])\n",
    "\n",
    "output_dir = Path(\"./models\")\n",
    "if not output_dir.exists():\n",
    "    output_dir.mkdir()\n",
    "\n",
    "nlp.to_disk(output_dir)\n",
    "print(\"Saved model to\", output_dir)\n",
    "\n",
    "print(\"Loading from\", output_dir)\n",
    "nlp2 = spacy.load(output_dir)\n",
    "doc = nlp2(test_text)\n",
    "print('Tags', [(t.text, t.tag, t.pos_) for t in doc])"
   ]
  },
  {
   "cell_type": "code",
   "execution_count": 13,
   "metadata": {},
   "outputs": [
    {
     "ename": "ValueError",
     "evalue": "[E143] Labels for component 'tagger' not initialized. This can be fixed by calling add_label, or by providing a representative batch of examples to the component's `initialize` method.",
     "output_type": "error",
     "traceback": [
      "\u001b[1;31m---------------------------------------------------------------------------\u001b[0m",
      "\u001b[1;31mValueError\u001b[0m                                Traceback (most recent call last)",
      "\u001b[1;32mc:\\Users\\Mouaz\\Desktop\\hamza\\Tp_TAL\\tp3.ipynb Cell 3\u001b[0m line \u001b[0;36m1\n\u001b[0;32m     <a href='vscode-notebook-cell:/c%3A/Users/Mouaz/Desktop/hamza/Tp_TAL/tp3.ipynb#W2sZmlsZQ%3D%3D?line=12'>13</a>\u001b[0m tagger \u001b[39m=\u001b[39m nlp\u001b[39m.\u001b[39mcreate_pipe(\u001b[39m'\u001b[39m\u001b[39mtagger\u001b[39m\u001b[39m'\u001b[39m)\n\u001b[0;32m     <a href='vscode-notebook-cell:/c%3A/Users/Mouaz/Desktop/hamza/Tp_TAL/tp3.ipynb#W2sZmlsZQ%3D%3D?line=13'>14</a>\u001b[0m nlp\u001b[39m.\u001b[39madd_pipe(\u001b[39m\"\u001b[39m\u001b[39mtagger\u001b[39m\u001b[39m\"\u001b[39m)\n\u001b[1;32m---> <a href='vscode-notebook-cell:/c%3A/Users/Mouaz/Desktop/hamza/Tp_TAL/tp3.ipynb#W2sZmlsZQ%3D%3D?line=14'>15</a>\u001b[0m optimizer \u001b[39m=\u001b[39m nlp\u001b[39m.\u001b[39;49mbegin_training()\n\u001b[0;32m     <a href='vscode-notebook-cell:/c%3A/Users/Mouaz/Desktop/hamza/Tp_TAL/tp3.ipynb#W2sZmlsZQ%3D%3D?line=16'>17</a>\u001b[0m \u001b[39mfor\u001b[39;00m tag, values \u001b[39min\u001b[39;00m TAG_MAP\u001b[39m.\u001b[39mitems():\n\u001b[0;32m     <a href='vscode-notebook-cell:/c%3A/Users/Mouaz/Desktop/hamza/Tp_TAL/tp3.ipynb#W2sZmlsZQ%3D%3D?line=17'>18</a>\u001b[0m     tagger\u001b[39m.\u001b[39madd_label(tag, values)  \u001b[39m# Ajouter les étiquettes dans la boucle\u001b[39;00m\n",
      "File \u001b[1;32mc:\\Users\\Mouaz\\AppData\\Local\\Programs\\Python\\Python311\\Lib\\site-packages\\spacy\\language.py:1287\u001b[0m, in \u001b[0;36mLanguage.begin_training\u001b[1;34m(self, get_examples, sgd)\u001b[0m\n\u001b[0;32m   1280\u001b[0m \u001b[39mdef\u001b[39;00m \u001b[39mbegin_training\u001b[39m(\n\u001b[0;32m   1281\u001b[0m     \u001b[39mself\u001b[39m,\n\u001b[0;32m   1282\u001b[0m     get_examples: Optional[Callable[[], Iterable[Example]]] \u001b[39m=\u001b[39m \u001b[39mNone\u001b[39;00m,\n\u001b[0;32m   1283\u001b[0m     \u001b[39m*\u001b[39m,\n\u001b[0;32m   1284\u001b[0m     sgd: Optional[Optimizer] \u001b[39m=\u001b[39m \u001b[39mNone\u001b[39;00m,\n\u001b[0;32m   1285\u001b[0m ) \u001b[39m-\u001b[39m\u001b[39m>\u001b[39m Optimizer:\n\u001b[0;32m   1286\u001b[0m     warnings\u001b[39m.\u001b[39mwarn(Warnings\u001b[39m.\u001b[39mW089, \u001b[39mDeprecationWarning\u001b[39;00m)\n\u001b[1;32m-> 1287\u001b[0m     \u001b[39mreturn\u001b[39;00m \u001b[39mself\u001b[39;49m\u001b[39m.\u001b[39;49minitialize(get_examples, sgd\u001b[39m=\u001b[39;49msgd)\n",
      "File \u001b[1;32mc:\\Users\\Mouaz\\AppData\\Local\\Programs\\Python\\Python311\\Lib\\site-packages\\spacy\\language.py:1349\u001b[0m, in \u001b[0;36mLanguage.initialize\u001b[1;34m(self, get_examples, sgd)\u001b[0m\n\u001b[0;32m   1345\u001b[0m         p_settings \u001b[39m=\u001b[39m I[\u001b[39m\"\u001b[39m\u001b[39mcomponents\u001b[39m\u001b[39m\"\u001b[39m]\u001b[39m.\u001b[39mget(name, {})\n\u001b[0;32m   1346\u001b[0m         p_settings \u001b[39m=\u001b[39m validate_init_settings(\n\u001b[0;32m   1347\u001b[0m             proc\u001b[39m.\u001b[39minitialize, p_settings, section\u001b[39m=\u001b[39m\u001b[39m\"\u001b[39m\u001b[39mcomponents\u001b[39m\u001b[39m\"\u001b[39m, name\u001b[39m=\u001b[39mname\n\u001b[0;32m   1348\u001b[0m         )\n\u001b[1;32m-> 1349\u001b[0m         proc\u001b[39m.\u001b[39;49minitialize(get_examples, nlp\u001b[39m=\u001b[39;49m\u001b[39mself\u001b[39;49m, \u001b[39m*\u001b[39;49m\u001b[39m*\u001b[39;49mp_settings)\n\u001b[0;32m   1350\u001b[0m pretrain_cfg \u001b[39m=\u001b[39m config\u001b[39m.\u001b[39mget(\u001b[39m\"\u001b[39m\u001b[39mpretraining\u001b[39m\u001b[39m\"\u001b[39m)\n\u001b[0;32m   1351\u001b[0m \u001b[39mif\u001b[39;00m pretrain_cfg:\n",
      "File \u001b[1;32mc:\\Users\\Mouaz\\AppData\\Local\\Programs\\Python\\Python311\\Lib\\site-packages\\spacy\\pipeline\\tagger.pyx:299\u001b[0m, in \u001b[0;36mspacy.pipeline.tagger.Tagger.initialize\u001b[1;34m()\u001b[0m\n",
      "File \u001b[1;32mc:\\Users\\Mouaz\\AppData\\Local\\Programs\\Python\\Python311\\Lib\\site-packages\\spacy\\pipeline\\pipe.pyx:121\u001b[0m, in \u001b[0;36mspacy.pipeline.pipe.Pipe._require_labels\u001b[1;34m()\u001b[0m\n",
      "\u001b[1;31mValueError\u001b[0m: [E143] Labels for component 'tagger' not initialized. This can be fixed by calling add_label, or by providing a representative batch of examples to the component's `initialize` method."
     ]
    }
   ],
   "source": [
    "TAG_MAP = {\n",
    "    'N': {'pos': 'NOUN'},\n",
    "    'V': {'pos': 'VERB'},\n",
    "    'J': {'pos': 'ADJ'}\n",
    "}\n",
    "\n",
    "TRAIN_DATA = [\n",
    "    (\"I like green eggs\", {'tags': ['N', 'V', 'J', 'N']}),\n",
    "    (\"Eat blue ham\", {'tags': ['V', 'J', 'N']})\n",
    "]\n",
    "\n",
    "nlp = spacy.blank('en')\n",
    "tagger = nlp.create_pipe('tagger')\n",
    "nlp.add_pipe(\"tagger\")\n",
    "optimizer = nlp.begin_training()\n",
    "\n",
    "for tag, values in TAG_MAP.items():\n",
    "    tagger.add_label(tag, values)  # Ajouter les étiquettes dans la boucle\n",
    "\n",
    "for i in range(25):\n",
    "    random.shuffle(TRAIN_DATA)\n",
    "    losses = {}\n",
    "    for text, annotations in TRAIN_DATA:\n",
    "        nlp.update([text], [annotations['tags']], sgd=optimizer, losses=losses)\n",
    "    print(losses)\n",
    "\n",
    "test_text = \"I like blue eggs\"\n",
    "doc = nlp(test_text)\n",
    "print('Tags', [(t.text, t.tag, t.pos_) for t in doc])\n",
    "\n",
    "output_dir = Path(\"./models\")\n",
    "if not output_dir.exists():\n",
    "    output_dir.mkdir()\n",
    "\n",
    "nlp.to_disk(output_dir)\n",
    "print(\"Saved model to\", output_dir)\n",
    "\n",
    "print(\"Loading from\", output_dir)\n",
    "nlp2 = spacy.load(output_dir)\n",
    "doc = nlp2(test_text)\n",
    "print('Tags', [(t.text, t.tag, t.pos_) for t in doc])\n"
   ]
  },
  {
   "cell_type": "code",
   "execution_count": null,
   "metadata": {},
   "outputs": [],
   "source": []
  },
  {
   "cell_type": "code",
   "execution_count": 8,
   "metadata": {},
   "outputs": [
    {
     "ename": "ConfigValidationError",
     "evalue": "\n\nConfig validation error\ntagger -> tags\textra fields not permitted\n{'nlp': <spacy.lang.en.English object at 0x0000017820680810>, 'name': 'tagger', 'label_smoothing': 0.0, 'model': {'@architectures': 'spacy.Tagger.v2', 'tok2vec': {'@architectures': 'spacy.HashEmbedCNN.v2', 'pretrained_vectors': None, 'width': 96, 'depth': 4, 'embed_size': 2000, 'window_size': 1, 'maxout_pieces': 3, 'subword_features': True}}, 'neg_prefix': '!', 'overwrite': False, 'scorer': {'@scorers': 'spacy.tagger_scorer.v1'}, 'tags': {'N': {'pos': 'NOUN'}, 'V': {'pos': 'VERB'}, 'J': {'pos': 'ADJ'}}, '@factories': 'tagger'}",
     "output_type": "error",
     "traceback": [
      "\u001b[1;31m---------------------------------------------------------------------------\u001b[0m",
      "\u001b[1;31mConfigValidationError\u001b[0m                     Traceback (most recent call last)",
      "\u001b[1;32mc:\\Users\\Mouaz\\Desktop\\hamza\\Tp_TAL\\tp3.ipynb Cell 4\u001b[0m line \u001b[0;36m1\n\u001b[0;32m      <a href='vscode-notebook-cell:/c%3A/Users/Mouaz/Desktop/hamza/Tp_TAL/tp3.ipynb#W3sZmlsZQ%3D%3D?line=6'>7</a>\u001b[0m TRAIN_DATA \u001b[39m=\u001b[39m [\n\u001b[0;32m      <a href='vscode-notebook-cell:/c%3A/Users/Mouaz/Desktop/hamza/Tp_TAL/tp3.ipynb#W3sZmlsZQ%3D%3D?line=7'>8</a>\u001b[0m     (\u001b[39m\"\u001b[39m\u001b[39mI like green eggs\u001b[39m\u001b[39m\"\u001b[39m, {\u001b[39m'\u001b[39m\u001b[39mtags\u001b[39m\u001b[39m'\u001b[39m: [\u001b[39m'\u001b[39m\u001b[39mN\u001b[39m\u001b[39m'\u001b[39m, \u001b[39m'\u001b[39m\u001b[39mV\u001b[39m\u001b[39m'\u001b[39m, \u001b[39m'\u001b[39m\u001b[39mJ\u001b[39m\u001b[39m'\u001b[39m, \u001b[39m'\u001b[39m\u001b[39mN\u001b[39m\u001b[39m'\u001b[39m]}),\n\u001b[0;32m      <a href='vscode-notebook-cell:/c%3A/Users/Mouaz/Desktop/hamza/Tp_TAL/tp3.ipynb#W3sZmlsZQ%3D%3D?line=8'>9</a>\u001b[0m     (\u001b[39m\"\u001b[39m\u001b[39mEat blue ham\u001b[39m\u001b[39m\"\u001b[39m, {\u001b[39m'\u001b[39m\u001b[39mtags\u001b[39m\u001b[39m'\u001b[39m: [\u001b[39m'\u001b[39m\u001b[39mV\u001b[39m\u001b[39m'\u001b[39m, \u001b[39m'\u001b[39m\u001b[39mJ\u001b[39m\u001b[39m'\u001b[39m, \u001b[39m'\u001b[39m\u001b[39mN\u001b[39m\u001b[39m'\u001b[39m]})\n\u001b[0;32m     <a href='vscode-notebook-cell:/c%3A/Users/Mouaz/Desktop/hamza/Tp_TAL/tp3.ipynb#W3sZmlsZQ%3D%3D?line=9'>10</a>\u001b[0m ]\n\u001b[0;32m     <a href='vscode-notebook-cell:/c%3A/Users/Mouaz/Desktop/hamza/Tp_TAL/tp3.ipynb#W3sZmlsZQ%3D%3D?line=11'>12</a>\u001b[0m nlp \u001b[39m=\u001b[39m spacy\u001b[39m.\u001b[39mblank(\u001b[39m'\u001b[39m\u001b[39men\u001b[39m\u001b[39m'\u001b[39m)\n\u001b[1;32m---> <a href='vscode-notebook-cell:/c%3A/Users/Mouaz/Desktop/hamza/Tp_TAL/tp3.ipynb#W3sZmlsZQ%3D%3D?line=12'>13</a>\u001b[0m tagger \u001b[39m=\u001b[39m nlp\u001b[39m.\u001b[39;49mcreate_pipe(\u001b[39m'\u001b[39;49m\u001b[39mtagger\u001b[39;49m\u001b[39m'\u001b[39;49m, config\u001b[39m=\u001b[39;49m{\u001b[39m\"\u001b[39;49m\u001b[39mtags\u001b[39;49m\u001b[39m\"\u001b[39;49m: TAG_MAP})\n\u001b[0;32m     <a href='vscode-notebook-cell:/c%3A/Users/Mouaz/Desktop/hamza/Tp_TAL/tp3.ipynb#W3sZmlsZQ%3D%3D?line=14'>15</a>\u001b[0m nlp\u001b[39m.\u001b[39madd_pipe(tagger)\n\u001b[0;32m     <a href='vscode-notebook-cell:/c%3A/Users/Mouaz/Desktop/hamza/Tp_TAL/tp3.ipynb#W3sZmlsZQ%3D%3D?line=15'>16</a>\u001b[0m optimizer \u001b[39m=\u001b[39m nlp\u001b[39m.\u001b[39mbegin_training()\n",
      "File \u001b[1;32mc:\\Users\\Mouaz\\AppData\\Local\\Programs\\Python\\Python311\\Lib\\site-packages\\spacy\\language.py:709\u001b[0m, in \u001b[0;36mLanguage.create_pipe\u001b[1;34m(self, factory_name, name, config, raw_config, validate)\u001b[0m\n\u001b[0;32m    706\u001b[0m cfg \u001b[39m=\u001b[39m {factory_name: config}\n\u001b[0;32m    707\u001b[0m \u001b[39m# We're calling the internal _fill here to avoid constructing the\u001b[39;00m\n\u001b[0;32m    708\u001b[0m \u001b[39m# registered functions twice\u001b[39;00m\n\u001b[1;32m--> 709\u001b[0m resolved \u001b[39m=\u001b[39m registry\u001b[39m.\u001b[39;49mresolve(cfg, validate\u001b[39m=\u001b[39;49mvalidate)\n\u001b[0;32m    710\u001b[0m filled \u001b[39m=\u001b[39m registry\u001b[39m.\u001b[39mfill({\u001b[39m\"\u001b[39m\u001b[39mcfg\u001b[39m\u001b[39m\"\u001b[39m: cfg[factory_name]}, validate\u001b[39m=\u001b[39mvalidate)[\u001b[39m\"\u001b[39m\u001b[39mcfg\u001b[39m\u001b[39m\"\u001b[39m]\n\u001b[0;32m    711\u001b[0m filled \u001b[39m=\u001b[39m Config(filled)\n",
      "File \u001b[1;32mc:\\Users\\Mouaz\\AppData\\Local\\Programs\\Python\\Python311\\Lib\\site-packages\\confection\\__init__.py:756\u001b[0m, in \u001b[0;36mregistry.resolve\u001b[1;34m(cls, config, schema, overrides, validate)\u001b[0m\n\u001b[0;32m    747\u001b[0m \u001b[39m@classmethod\u001b[39m\n\u001b[0;32m    748\u001b[0m \u001b[39mdef\u001b[39;00m \u001b[39mresolve\u001b[39m(\n\u001b[0;32m    749\u001b[0m     \u001b[39mcls\u001b[39m,\n\u001b[1;32m   (...)\u001b[0m\n\u001b[0;32m    754\u001b[0m     validate: \u001b[39mbool\u001b[39m \u001b[39m=\u001b[39m \u001b[39mTrue\u001b[39;00m,\n\u001b[0;32m    755\u001b[0m ) \u001b[39m-\u001b[39m\u001b[39m>\u001b[39m Dict[\u001b[39mstr\u001b[39m, Any]:\n\u001b[1;32m--> 756\u001b[0m     resolved, _ \u001b[39m=\u001b[39m \u001b[39mcls\u001b[39;49m\u001b[39m.\u001b[39;49m_make(\n\u001b[0;32m    757\u001b[0m         config, schema\u001b[39m=\u001b[39;49mschema, overrides\u001b[39m=\u001b[39;49moverrides, validate\u001b[39m=\u001b[39;49mvalidate, resolve\u001b[39m=\u001b[39;49m\u001b[39mTrue\u001b[39;49;00m\n\u001b[0;32m    758\u001b[0m     )\n\u001b[0;32m    759\u001b[0m     \u001b[39mreturn\u001b[39;00m resolved\n",
      "File \u001b[1;32mc:\\Users\\Mouaz\\AppData\\Local\\Programs\\Python\\Python311\\Lib\\site-packages\\confection\\__init__.py:805\u001b[0m, in \u001b[0;36mregistry._make\u001b[1;34m(cls, config, schema, overrides, resolve, validate)\u001b[0m\n\u001b[0;32m    803\u001b[0m \u001b[39mif\u001b[39;00m \u001b[39mnot\u001b[39;00m is_interpolated:\n\u001b[0;32m    804\u001b[0m     config \u001b[39m=\u001b[39m Config(orig_config)\u001b[39m.\u001b[39minterpolate()\n\u001b[1;32m--> 805\u001b[0m filled, _, resolved \u001b[39m=\u001b[39m \u001b[39mcls\u001b[39;49m\u001b[39m.\u001b[39;49m_fill(\n\u001b[0;32m    806\u001b[0m     config, schema, validate\u001b[39m=\u001b[39;49mvalidate, overrides\u001b[39m=\u001b[39;49moverrides, resolve\u001b[39m=\u001b[39;49mresolve\n\u001b[0;32m    807\u001b[0m )\n\u001b[0;32m    808\u001b[0m filled \u001b[39m=\u001b[39m Config(filled, section_order\u001b[39m=\u001b[39msection_order)\n\u001b[0;32m    809\u001b[0m \u001b[39m# Check that overrides didn't include invalid properties not in config\u001b[39;00m\n",
      "File \u001b[1;32mc:\\Users\\Mouaz\\AppData\\Local\\Programs\\Python\\Python311\\Lib\\site-packages\\confection\\__init__.py:860\u001b[0m, in \u001b[0;36mregistry._fill\u001b[1;34m(cls, config, schema, validate, resolve, parent, overrides)\u001b[0m\n\u001b[0;32m    858\u001b[0m     schema\u001b[39m.\u001b[39m__fields__[key] \u001b[39m=\u001b[39m copy_model_field(field, Any)\n\u001b[0;32m    859\u001b[0m promise_schema \u001b[39m=\u001b[39m \u001b[39mcls\u001b[39m\u001b[39m.\u001b[39mmake_promise_schema(value, resolve\u001b[39m=\u001b[39mresolve)\n\u001b[1;32m--> 860\u001b[0m filled[key], validation[v_key], final[key] \u001b[39m=\u001b[39m \u001b[39mcls\u001b[39;49m\u001b[39m.\u001b[39;49m_fill(\n\u001b[0;32m    861\u001b[0m     value,\n\u001b[0;32m    862\u001b[0m     promise_schema,\n\u001b[0;32m    863\u001b[0m     validate\u001b[39m=\u001b[39;49mvalidate,\n\u001b[0;32m    864\u001b[0m     resolve\u001b[39m=\u001b[39;49mresolve,\n\u001b[0;32m    865\u001b[0m     parent\u001b[39m=\u001b[39;49mkey_parent,\n\u001b[0;32m    866\u001b[0m     overrides\u001b[39m=\u001b[39;49moverrides,\n\u001b[0;32m    867\u001b[0m )\n\u001b[0;32m    868\u001b[0m reg_name, func_name \u001b[39m=\u001b[39m \u001b[39mcls\u001b[39m\u001b[39m.\u001b[39mget_constructor(final[key])\n\u001b[0;32m    869\u001b[0m args, kwargs \u001b[39m=\u001b[39m \u001b[39mcls\u001b[39m\u001b[39m.\u001b[39mparse_args(final[key])\n",
      "File \u001b[1;32mc:\\Users\\Mouaz\\AppData\\Local\\Programs\\Python\\Python311\\Lib\\site-packages\\confection\\__init__.py:926\u001b[0m, in \u001b[0;36mregistry._fill\u001b[1;34m(cls, config, schema, validate, resolve, parent, overrides)\u001b[0m\n\u001b[0;32m    924\u001b[0m         result \u001b[39m=\u001b[39m schema\u001b[39m.\u001b[39mparse_obj(validation)\n\u001b[0;32m    925\u001b[0m     \u001b[39mexcept\u001b[39;00m ValidationError \u001b[39mas\u001b[39;00m e:\n\u001b[1;32m--> 926\u001b[0m         \u001b[39mraise\u001b[39;00m ConfigValidationError(\n\u001b[0;32m    927\u001b[0m             config\u001b[39m=\u001b[39mconfig, errors\u001b[39m=\u001b[39me\u001b[39m.\u001b[39merrors(), parent\u001b[39m=\u001b[39mparent\n\u001b[0;32m    928\u001b[0m         ) \u001b[39mfrom\u001b[39;00m \u001b[39mNone\u001b[39;00m\n\u001b[0;32m    929\u001b[0m \u001b[39melse\u001b[39;00m:\n\u001b[0;32m    930\u001b[0m     \u001b[39m# Same as parse_obj, but without validation\u001b[39;00m\n\u001b[0;32m    931\u001b[0m     result \u001b[39m=\u001b[39m schema\u001b[39m.\u001b[39mconstruct(\u001b[39m*\u001b[39m\u001b[39m*\u001b[39mvalidation)\n",
      "\u001b[1;31mConfigValidationError\u001b[0m: \n\nConfig validation error\ntagger -> tags\textra fields not permitted\n{'nlp': <spacy.lang.en.English object at 0x0000017820680810>, 'name': 'tagger', 'label_smoothing': 0.0, 'model': {'@architectures': 'spacy.Tagger.v2', 'tok2vec': {'@architectures': 'spacy.HashEmbedCNN.v2', 'pretrained_vectors': None, 'width': 96, 'depth': 4, 'embed_size': 2000, 'window_size': 1, 'maxout_pieces': 3, 'subword_features': True}}, 'neg_prefix': '!', 'overwrite': False, 'scorer': {'@scorers': 'spacy.tagger_scorer.v1'}, 'tags': {'N': {'pos': 'NOUN'}, 'V': {'pos': 'VERB'}, 'J': {'pos': 'ADJ'}}, '@factories': 'tagger'}"
     ]
    }
   ],
   "source": [
    "TAG_MAP = {\n",
    "    'N': {'pos': 'NOUN'},\n",
    "    'V': {'pos': 'VERB'},\n",
    "    'J': {'pos': 'ADJ'}\n",
    "}\n",
    "\n",
    "TRAIN_DATA = [\n",
    "    (\"I like green eggs\", {'tags': ['N', 'V', 'J', 'N']}),\n",
    "    (\"Eat blue ham\", {'tags': ['V', 'J', 'N']})\n",
    "]\n",
    "\n",
    "nlp = spacy.blank('en')\n",
    "tagger = nlp.create_pipe('tagger', config={\"tags\": TAG_MAP})\n",
    "\n",
    "nlp.add_pipe(tagger)\n",
    "optimizer = nlp.begin_training()\n",
    "\n",
    "for i in range(25):\n",
    "    random.shuffle(TRAIN_DATA)\n",
    "    losses = {}\n",
    "    for text, annotations in TRAIN_DATA:\n",
    "        nlp.update([text], [annotations['tags']], sgd=optimizer, losses=losses)\n",
    "    print(losses)\n",
    "\n",
    "test_text = \"I like blue eggs\"\n",
    "doc = nlp(test_text)\n",
    "print('Tags', [(t.text, t.tag_, t.pos_) for t in doc])\n",
    "\n",
    "output_dir = Path(\"./models\")\n",
    "if not output_dir.exists():\n",
    "    output_dir.mkdir()\n",
    "\n",
    "nlp.to_disk(output_dir)\n",
    "print(\"Saved model to\", output_dir)\n",
    "\n",
    "print(\"Loading from\", output_dir)\n",
    "nlp2 = spacy.load(output_dir)\n",
    "doc = nlp2(test_text)\n",
    "print('Tags', [(t.text, t.tag_, t.pos_) for t in doc])\n"
   ]
  },
  {
   "cell_type": "code",
   "execution_count": 16,
   "metadata": {},
   "outputs": [
    {
     "ename": "ValueError",
     "evalue": "[E109] Component 'tagger' could not be run. Did you forget to call `initialize()`?",
     "output_type": "error",
     "traceback": [
      "\u001b[1;31m---------------------------------------------------------------------------\u001b[0m",
      "\u001b[1;31mKeyError\u001b[0m                                  Traceback (most recent call last)",
      "File \u001b[1;32mc:\\Users\\Mouaz\\AppData\\Local\\Programs\\Python\\Python311\\Lib\\site-packages\\spacy\\language.py:1049\u001b[0m, in \u001b[0;36mLanguage.__call__\u001b[1;34m(self, text, disable, component_cfg)\u001b[0m\n\u001b[0;32m   1048\u001b[0m \u001b[39mtry\u001b[39;00m:\n\u001b[1;32m-> 1049\u001b[0m     doc \u001b[39m=\u001b[39m proc(doc, \u001b[39m*\u001b[39;49m\u001b[39m*\u001b[39;49mcomponent_cfg\u001b[39m.\u001b[39;49mget(name, {}))  \u001b[39m# type: ignore[call-arg]\u001b[39;00m\n\u001b[0;32m   1050\u001b[0m \u001b[39mexcept\u001b[39;00m \u001b[39mKeyError\u001b[39;00m \u001b[39mas\u001b[39;00m e:\n\u001b[0;32m   1051\u001b[0m     \u001b[39m# This typically happens if a component is not initialized\u001b[39;00m\n",
      "File \u001b[1;32mc:\\Users\\Mouaz\\AppData\\Local\\Programs\\Python\\Python311\\Lib\\site-packages\\spacy\\pipeline\\trainable_pipe.pyx:56\u001b[0m, in \u001b[0;36mspacy.pipeline.trainable_pipe.TrainablePipe.__call__\u001b[1;34m()\u001b[0m\n",
      "File \u001b[1;32mc:\\Users\\Mouaz\\AppData\\Local\\Programs\\Python\\Python311\\Lib\\site-packages\\spacy\\util.py:1704\u001b[0m, in \u001b[0;36mraise_error\u001b[1;34m(proc_name, proc, docs, e)\u001b[0m\n\u001b[0;32m   1703\u001b[0m \u001b[39mdef\u001b[39;00m \u001b[39mraise_error\u001b[39m(proc_name, proc, docs, e):\n\u001b[1;32m-> 1704\u001b[0m     \u001b[39mraise\u001b[39;00m e\n",
      "File \u001b[1;32mc:\\Users\\Mouaz\\AppData\\Local\\Programs\\Python\\Python311\\Lib\\site-packages\\spacy\\pipeline\\trainable_pipe.pyx:52\u001b[0m, in \u001b[0;36mspacy.pipeline.trainable_pipe.TrainablePipe.__call__\u001b[1;34m()\u001b[0m\n",
      "File \u001b[1;32mc:\\Users\\Mouaz\\AppData\\Local\\Programs\\Python\\Python311\\Lib\\site-packages\\spacy\\pipeline\\tagger.pyx:138\u001b[0m, in \u001b[0;36mspacy.pipeline.tagger.Tagger.predict\u001b[1;34m()\u001b[0m\n",
      "File \u001b[1;32mc:\\Users\\Mouaz\\AppData\\Local\\Programs\\Python\\Python311\\Lib\\site-packages\\thinc\\model.py:334\u001b[0m, in \u001b[0;36mModel.predict\u001b[1;34m(self, X)\u001b[0m\n\u001b[0;32m    331\u001b[0m \u001b[39m\u001b[39m\u001b[39m\"\"\"Call the model's `forward` function with `is_train=False`, and return\u001b[39;00m\n\u001b[0;32m    332\u001b[0m \u001b[39monly the output, instead of the `(output, callback)` tuple.\u001b[39;00m\n\u001b[0;32m    333\u001b[0m \u001b[39m\"\"\"\u001b[39;00m\n\u001b[1;32m--> 334\u001b[0m \u001b[39mreturn\u001b[39;00m \u001b[39mself\u001b[39;49m\u001b[39m.\u001b[39;49m_func(\u001b[39mself\u001b[39;49m, X, is_train\u001b[39m=\u001b[39;49m\u001b[39mFalse\u001b[39;49;00m)[\u001b[39m0\u001b[39m]\n",
      "File \u001b[1;32mc:\\Users\\Mouaz\\AppData\\Local\\Programs\\Python\\Python311\\Lib\\site-packages\\thinc\\layers\\chain.py:54\u001b[0m, in \u001b[0;36mforward\u001b[1;34m(model, X, is_train)\u001b[0m\n\u001b[0;32m     53\u001b[0m \u001b[39mfor\u001b[39;00m layer \u001b[39min\u001b[39;00m model\u001b[39m.\u001b[39mlayers:\n\u001b[1;32m---> 54\u001b[0m     Y, inc_layer_grad \u001b[39m=\u001b[39m layer(X, is_train\u001b[39m=\u001b[39;49mis_train)\n\u001b[0;32m     55\u001b[0m     callbacks\u001b[39m.\u001b[39mappend(inc_layer_grad)\n",
      "File \u001b[1;32mc:\\Users\\Mouaz\\AppData\\Local\\Programs\\Python\\Python311\\Lib\\site-packages\\thinc\\model.py:310\u001b[0m, in \u001b[0;36mModel.__call__\u001b[1;34m(self, X, is_train)\u001b[0m\n\u001b[0;32m    308\u001b[0m \u001b[39m\u001b[39m\u001b[39m\"\"\"Call the model's `forward` function, returning the output and a\u001b[39;00m\n\u001b[0;32m    309\u001b[0m \u001b[39mcallback to compute the gradients via backpropagation.\"\"\"\u001b[39;00m\n\u001b[1;32m--> 310\u001b[0m \u001b[39mreturn\u001b[39;00m \u001b[39mself\u001b[39;49m\u001b[39m.\u001b[39;49m_func(\u001b[39mself\u001b[39;49m, X, is_train\u001b[39m=\u001b[39;49mis_train)\n",
      "File \u001b[1;32mc:\\Users\\Mouaz\\AppData\\Local\\Programs\\Python\\Python311\\Lib\\site-packages\\thinc\\layers\\chain.py:54\u001b[0m, in \u001b[0;36mforward\u001b[1;34m(model, X, is_train)\u001b[0m\n\u001b[0;32m     53\u001b[0m \u001b[39mfor\u001b[39;00m layer \u001b[39min\u001b[39;00m model\u001b[39m.\u001b[39mlayers:\n\u001b[1;32m---> 54\u001b[0m     Y, inc_layer_grad \u001b[39m=\u001b[39m layer(X, is_train\u001b[39m=\u001b[39;49mis_train)\n\u001b[0;32m     55\u001b[0m     callbacks\u001b[39m.\u001b[39mappend(inc_layer_grad)\n",
      "File \u001b[1;32mc:\\Users\\Mouaz\\AppData\\Local\\Programs\\Python\\Python311\\Lib\\site-packages\\thinc\\model.py:310\u001b[0m, in \u001b[0;36mModel.__call__\u001b[1;34m(self, X, is_train)\u001b[0m\n\u001b[0;32m    308\u001b[0m \u001b[39m\u001b[39m\u001b[39m\"\"\"Call the model's `forward` function, returning the output and a\u001b[39;00m\n\u001b[0;32m    309\u001b[0m \u001b[39mcallback to compute the gradients via backpropagation.\"\"\"\u001b[39;00m\n\u001b[1;32m--> 310\u001b[0m \u001b[39mreturn\u001b[39;00m \u001b[39mself\u001b[39;49m\u001b[39m.\u001b[39;49m_func(\u001b[39mself\u001b[39;49m, X, is_train\u001b[39m=\u001b[39;49mis_train)\n",
      "File \u001b[1;32mc:\\Users\\Mouaz\\AppData\\Local\\Programs\\Python\\Python311\\Lib\\site-packages\\thinc\\layers\\chain.py:54\u001b[0m, in \u001b[0;36mforward\u001b[1;34m(model, X, is_train)\u001b[0m\n\u001b[0;32m     53\u001b[0m \u001b[39mfor\u001b[39;00m layer \u001b[39min\u001b[39;00m model\u001b[39m.\u001b[39mlayers:\n\u001b[1;32m---> 54\u001b[0m     Y, inc_layer_grad \u001b[39m=\u001b[39m layer(X, is_train\u001b[39m=\u001b[39;49mis_train)\n\u001b[0;32m     55\u001b[0m     callbacks\u001b[39m.\u001b[39mappend(inc_layer_grad)\n",
      "File \u001b[1;32mc:\\Users\\Mouaz\\AppData\\Local\\Programs\\Python\\Python311\\Lib\\site-packages\\thinc\\model.py:310\u001b[0m, in \u001b[0;36mModel.__call__\u001b[1;34m(self, X, is_train)\u001b[0m\n\u001b[0;32m    308\u001b[0m \u001b[39m\u001b[39m\u001b[39m\"\"\"Call the model's `forward` function, returning the output and a\u001b[39;00m\n\u001b[0;32m    309\u001b[0m \u001b[39mcallback to compute the gradients via backpropagation.\"\"\"\u001b[39;00m\n\u001b[1;32m--> 310\u001b[0m \u001b[39mreturn\u001b[39;00m \u001b[39mself\u001b[39;49m\u001b[39m.\u001b[39;49m_func(\u001b[39mself\u001b[39;49m, X, is_train\u001b[39m=\u001b[39;49mis_train)\n",
      "File \u001b[1;32mc:\\Users\\Mouaz\\AppData\\Local\\Programs\\Python\\Python311\\Lib\\site-packages\\thinc\\layers\\with_array.py:36\u001b[0m, in \u001b[0;36mforward\u001b[1;34m(model, Xseq, is_train)\u001b[0m\n\u001b[0;32m     35\u001b[0m \u001b[39mif\u001b[39;00m \u001b[39misinstance\u001b[39m(Xseq, Ragged):\n\u001b[1;32m---> 36\u001b[0m     \u001b[39mreturn\u001b[39;00m cast(Tuple[SeqT, Callable], _ragged_forward(model, Xseq, is_train))\n\u001b[0;32m     37\u001b[0m \u001b[39melif\u001b[39;00m \u001b[39misinstance\u001b[39m(Xseq, Padded):\n",
      "File \u001b[1;32mc:\\Users\\Mouaz\\AppData\\Local\\Programs\\Python\\Python311\\Lib\\site-packages\\thinc\\layers\\with_array.py:91\u001b[0m, in \u001b[0;36m_ragged_forward\u001b[1;34m(model, Xr, is_train)\u001b[0m\n\u001b[0;32m     90\u001b[0m layer: Model[ArrayXd, ArrayXd] \u001b[39m=\u001b[39m model\u001b[39m.\u001b[39mlayers[\u001b[39m0\u001b[39m]\n\u001b[1;32m---> 91\u001b[0m Y, get_dX \u001b[39m=\u001b[39m layer(Xr\u001b[39m.\u001b[39;49mdataXd, is_train)\n\u001b[0;32m     93\u001b[0m \u001b[39mdef\u001b[39;00m \u001b[39mbackprop\u001b[39m(dYr: Ragged) \u001b[39m-\u001b[39m\u001b[39m>\u001b[39m Ragged:\n",
      "File \u001b[1;32mc:\\Users\\Mouaz\\AppData\\Local\\Programs\\Python\\Python311\\Lib\\site-packages\\thinc\\model.py:310\u001b[0m, in \u001b[0;36mModel.__call__\u001b[1;34m(self, X, is_train)\u001b[0m\n\u001b[0;32m    308\u001b[0m \u001b[39m\u001b[39m\u001b[39m\"\"\"Call the model's `forward` function, returning the output and a\u001b[39;00m\n\u001b[0;32m    309\u001b[0m \u001b[39mcallback to compute the gradients via backpropagation.\"\"\"\u001b[39;00m\n\u001b[1;32m--> 310\u001b[0m \u001b[39mreturn\u001b[39;00m \u001b[39mself\u001b[39;49m\u001b[39m.\u001b[39;49m_func(\u001b[39mself\u001b[39;49m, X, is_train\u001b[39m=\u001b[39;49mis_train)\n",
      "File \u001b[1;32mc:\\Users\\Mouaz\\AppData\\Local\\Programs\\Python\\Python311\\Lib\\site-packages\\thinc\\layers\\concatenate.py:57\u001b[0m, in \u001b[0;36mforward\u001b[1;34m(model, X, is_train)\u001b[0m\n\u001b[0;32m     56\u001b[0m \u001b[39mdef\u001b[39;00m \u001b[39mforward\u001b[39m(model: Model[InT, OutT], X: InT, is_train: \u001b[39mbool\u001b[39m) \u001b[39m-\u001b[39m\u001b[39m>\u001b[39m Tuple[OutT, Callable]:\n\u001b[1;32m---> 57\u001b[0m     Ys, callbacks \u001b[39m=\u001b[39m \u001b[39mzip\u001b[39m(\u001b[39m*\u001b[39m[layer(X, is_train\u001b[39m=\u001b[39;49mis_train) \u001b[39mfor\u001b[39;49;00m layer \u001b[39min\u001b[39;49;00m model\u001b[39m.\u001b[39;49mlayers])\n\u001b[0;32m     58\u001b[0m     \u001b[39mif\u001b[39;00m \u001b[39misinstance\u001b[39m(Ys[\u001b[39m0\u001b[39m], \u001b[39mlist\u001b[39m):\n",
      "File \u001b[1;32mc:\\Users\\Mouaz\\AppData\\Local\\Programs\\Python\\Python311\\Lib\\site-packages\\thinc\\layers\\concatenate.py:57\u001b[0m, in \u001b[0;36m<listcomp>\u001b[1;34m(.0)\u001b[0m\n\u001b[0;32m     56\u001b[0m \u001b[39mdef\u001b[39;00m \u001b[39mforward\u001b[39m(model: Model[InT, OutT], X: InT, is_train: \u001b[39mbool\u001b[39m) \u001b[39m-\u001b[39m\u001b[39m>\u001b[39m Tuple[OutT, Callable]:\n\u001b[1;32m---> 57\u001b[0m     Ys, callbacks \u001b[39m=\u001b[39m \u001b[39mzip\u001b[39m(\u001b[39m*\u001b[39m[layer(X, is_train\u001b[39m=\u001b[39;49mis_train) \u001b[39mfor\u001b[39;00m layer \u001b[39min\u001b[39;00m model\u001b[39m.\u001b[39mlayers])\n\u001b[0;32m     58\u001b[0m     \u001b[39mif\u001b[39;00m \u001b[39misinstance\u001b[39m(Ys[\u001b[39m0\u001b[39m], \u001b[39mlist\u001b[39m):\n",
      "File \u001b[1;32mc:\\Users\\Mouaz\\AppData\\Local\\Programs\\Python\\Python311\\Lib\\site-packages\\thinc\\model.py:310\u001b[0m, in \u001b[0;36mModel.__call__\u001b[1;34m(self, X, is_train)\u001b[0m\n\u001b[0;32m    308\u001b[0m \u001b[39m\u001b[39m\u001b[39m\"\"\"Call the model's `forward` function, returning the output and a\u001b[39;00m\n\u001b[0;32m    309\u001b[0m \u001b[39mcallback to compute the gradients via backpropagation.\"\"\"\u001b[39;00m\n\u001b[1;32m--> 310\u001b[0m \u001b[39mreturn\u001b[39;00m \u001b[39mself\u001b[39;49m\u001b[39m.\u001b[39;49m_func(\u001b[39mself\u001b[39;49m, X, is_train\u001b[39m=\u001b[39;49mis_train)\n",
      "File \u001b[1;32mc:\\Users\\Mouaz\\AppData\\Local\\Programs\\Python\\Python311\\Lib\\site-packages\\thinc\\layers\\chain.py:54\u001b[0m, in \u001b[0;36mforward\u001b[1;34m(model, X, is_train)\u001b[0m\n\u001b[0;32m     53\u001b[0m \u001b[39mfor\u001b[39;00m layer \u001b[39min\u001b[39;00m model\u001b[39m.\u001b[39mlayers:\n\u001b[1;32m---> 54\u001b[0m     Y, inc_layer_grad \u001b[39m=\u001b[39m layer(X, is_train\u001b[39m=\u001b[39;49mis_train)\n\u001b[0;32m     55\u001b[0m     callbacks\u001b[39m.\u001b[39mappend(inc_layer_grad)\n",
      "File \u001b[1;32mc:\\Users\\Mouaz\\AppData\\Local\\Programs\\Python\\Python311\\Lib\\site-packages\\thinc\\model.py:310\u001b[0m, in \u001b[0;36mModel.__call__\u001b[1;34m(self, X, is_train)\u001b[0m\n\u001b[0;32m    308\u001b[0m \u001b[39m\u001b[39m\u001b[39m\"\"\"Call the model's `forward` function, returning the output and a\u001b[39;00m\n\u001b[0;32m    309\u001b[0m \u001b[39mcallback to compute the gradients via backpropagation.\"\"\"\u001b[39;00m\n\u001b[1;32m--> 310\u001b[0m \u001b[39mreturn\u001b[39;00m \u001b[39mself\u001b[39;49m\u001b[39m.\u001b[39;49m_func(\u001b[39mself\u001b[39;49m, X, is_train\u001b[39m=\u001b[39;49mis_train)\n",
      "File \u001b[1;32mc:\\Users\\Mouaz\\AppData\\Local\\Programs\\Python\\Python311\\Lib\\site-packages\\thinc\\layers\\hashembed.py:62\u001b[0m, in \u001b[0;36mforward\u001b[1;34m(model, ids, is_train)\u001b[0m\n\u001b[0;32m     59\u001b[0m \u001b[39mdef\u001b[39;00m \u001b[39mforward\u001b[39m(\n\u001b[0;32m     60\u001b[0m     model: Model[Ints1d, OutT], ids: Ints1d, is_train: \u001b[39mbool\u001b[39m\n\u001b[0;32m     61\u001b[0m ) \u001b[39m-\u001b[39m\u001b[39m>\u001b[39m Tuple[OutT, Callable]:\n\u001b[1;32m---> 62\u001b[0m     vectors \u001b[39m=\u001b[39m cast(Floats2d, model\u001b[39m.\u001b[39;49mget_param(\u001b[39m\"\u001b[39;49m\u001b[39mE\u001b[39;49m\u001b[39m\"\u001b[39;49m))\n\u001b[0;32m     63\u001b[0m     nV \u001b[39m=\u001b[39m vectors\u001b[39m.\u001b[39mshape[\u001b[39m0\u001b[39m]\n",
      "File \u001b[1;32mc:\\Users\\Mouaz\\AppData\\Local\\Programs\\Python\\Python311\\Lib\\site-packages\\thinc\\model.py:235\u001b[0m, in \u001b[0;36mModel.get_param\u001b[1;34m(self, name)\u001b[0m\n\u001b[0;32m    234\u001b[0m \u001b[39mif\u001b[39;00m \u001b[39mnot\u001b[39;00m \u001b[39mself\u001b[39m\u001b[39m.\u001b[39m_params\u001b[39m.\u001b[39mhas_param(\u001b[39mself\u001b[39m\u001b[39m.\u001b[39mid, name):\n\u001b[1;32m--> 235\u001b[0m     \u001b[39mraise\u001b[39;00m \u001b[39mKeyError\u001b[39;00m(\n\u001b[0;32m    236\u001b[0m         \u001b[39mf\u001b[39m\u001b[39m\"\u001b[39m\u001b[39mParameter \u001b[39m\u001b[39m'\u001b[39m\u001b[39m{\u001b[39;00mname\u001b[39m}\u001b[39;00m\u001b[39m'\u001b[39m\u001b[39m for model \u001b[39m\u001b[39m'\u001b[39m\u001b[39m{\u001b[39;00m\u001b[39mself\u001b[39m\u001b[39m.\u001b[39mname\u001b[39m}\u001b[39;00m\u001b[39m'\u001b[39m\u001b[39m has not been allocated yet.\u001b[39m\u001b[39m\"\u001b[39m\n\u001b[0;32m    237\u001b[0m     )\n\u001b[0;32m    238\u001b[0m \u001b[39mreturn\u001b[39;00m \u001b[39mself\u001b[39m\u001b[39m.\u001b[39m_params\u001b[39m.\u001b[39mget_param(\u001b[39mself\u001b[39m\u001b[39m.\u001b[39mid, name)\n",
      "\u001b[1;31mKeyError\u001b[0m: \"Parameter 'E' for model 'hashembed' has not been allocated yet.\"",
      "\nThe above exception was the direct cause of the following exception:\n",
      "\u001b[1;31mValueError\u001b[0m                                Traceback (most recent call last)",
      "\u001b[1;32mc:\\Users\\Mouaz\\Desktop\\hamza\\Tp_TAL\\tp3.ipynb Cell 6\u001b[0m line \u001b[0;36m3\n\u001b[0;32m      <a href='vscode-notebook-cell:/c%3A/Users/Mouaz/Desktop/hamza/Tp_TAL/tp3.ipynb#W5sZmlsZQ%3D%3D?line=0'>1</a>\u001b[0m \u001b[39mdef\u001b[39;00m \u001b[39mmake_verb_upper\u001b[39m(text, pos):\n\u001b[0;32m      <a href='vscode-notebook-cell:/c%3A/Users/Mouaz/Desktop/hamza/Tp_TAL/tp3.ipynb#W5sZmlsZQ%3D%3D?line=1'>2</a>\u001b[0m     \u001b[39mreturn\u001b[39;00m text\u001b[39m.\u001b[39mupper() \u001b[39mif\u001b[39;00m pos \u001b[39m==\u001b[39m \u001b[39m\"\u001b[39m\u001b[39mVERB\u001b[39m\u001b[39m\"\u001b[39m \u001b[39melse\u001b[39;00m text\n\u001b[1;32m----> <a href='vscode-notebook-cell:/c%3A/Users/Mouaz/Desktop/hamza/Tp_TAL/tp3.ipynb#W5sZmlsZQ%3D%3D?line=2'>3</a>\u001b[0m doc \u001b[39m=\u001b[39m nlp(\u001b[39mu\u001b[39;49m\u001b[39m'\u001b[39;49m\u001b[39mTom ran swiftly and walked slowly\u001b[39;49m\u001b[39m'\u001b[39;49m)\n\u001b[0;32m      <a href='vscode-notebook-cell:/c%3A/Users/Mouaz/Desktop/hamza/Tp_TAL/tp3.ipynb#W5sZmlsZQ%3D%3D?line=3'>4</a>\u001b[0m text \u001b[39m=\u001b[39m \u001b[39m'\u001b[39m\u001b[39m'\u001b[39m\u001b[39m.\u001b[39mjoin(make_verb_upper(w\u001b[39m.\u001b[39mtext_with_ws, w\u001b[39m.\u001b[39mpos_) \u001b[39mfor\u001b[39;00m w \u001b[39min\u001b[39;00m doc)\n\u001b[0;32m      <a href='vscode-notebook-cell:/c%3A/Users/Mouaz/Desktop/hamza/Tp_TAL/tp3.ipynb#W5sZmlsZQ%3D%3D?line=4'>5</a>\u001b[0m \u001b[39mprint\u001b[39m(text)\n",
      "File \u001b[1;32mc:\\Users\\Mouaz\\AppData\\Local\\Programs\\Python\\Python311\\Lib\\site-packages\\spacy\\language.py:1052\u001b[0m, in \u001b[0;36mLanguage.__call__\u001b[1;34m(self, text, disable, component_cfg)\u001b[0m\n\u001b[0;32m   1049\u001b[0m     doc \u001b[39m=\u001b[39m proc(doc, \u001b[39m*\u001b[39m\u001b[39m*\u001b[39mcomponent_cfg\u001b[39m.\u001b[39mget(name, {}))  \u001b[39m# type: ignore[call-arg]\u001b[39;00m\n\u001b[0;32m   1050\u001b[0m \u001b[39mexcept\u001b[39;00m \u001b[39mKeyError\u001b[39;00m \u001b[39mas\u001b[39;00m e:\n\u001b[0;32m   1051\u001b[0m     \u001b[39m# This typically happens if a component is not initialized\u001b[39;00m\n\u001b[1;32m-> 1052\u001b[0m     \u001b[39mraise\u001b[39;00m \u001b[39mValueError\u001b[39;00m(Errors\u001b[39m.\u001b[39mE109\u001b[39m.\u001b[39mformat(name\u001b[39m=\u001b[39mname)) \u001b[39mfrom\u001b[39;00m \u001b[39me\u001b[39;00m\n\u001b[0;32m   1053\u001b[0m \u001b[39mexcept\u001b[39;00m \u001b[39mException\u001b[39;00m \u001b[39mas\u001b[39;00m e:\n\u001b[0;32m   1054\u001b[0m     error_handler(name, proc, [doc], e)\n",
      "\u001b[1;31mValueError\u001b[0m: [E109] Component 'tagger' could not be run. Did you forget to call `initialize()`?"
     ]
    }
   ],
   "source": [
    "def make_verb_upper(text, pos):\n",
    "    return text.upper() if pos == \"VERB\" else text\n",
    "doc = nlp(u'Tom ran swiftly and walked slowly')\n",
    "text = ''.join(make_verb_upper(w.text_with_ws, w.pos_) for w in doc)\n",
    "print(text)\n"
   ]
  }
 ],
 "metadata": {
  "kernelspec": {
   "display_name": "Python 3",
   "language": "python",
   "name": "python3"
  },
  "language_info": {
   "codemirror_mode": {
    "name": "ipython",
    "version": 3
   },
   "file_extension": ".py",
   "mimetype": "text/x-python",
   "name": "python",
   "nbconvert_exporter": "python",
   "pygments_lexer": "ipython3",
   "version": "3.11.5"
  }
 },
 "nbformat": 4,
 "nbformat_minor": 2
}
