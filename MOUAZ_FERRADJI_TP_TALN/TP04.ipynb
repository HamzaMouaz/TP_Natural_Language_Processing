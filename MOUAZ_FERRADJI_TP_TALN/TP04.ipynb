{
 "cells": [
  {
   "cell_type": "code",
   "execution_count": 1,
   "metadata": {},
   "outputs": [],
   "source": [
    "import spacy\n",
    "from spacy.training.example import Example\n",
    "from pathlib import Path\n",
    "import random \n",
    "import plac\n"
   ]
  },
  {
   "cell_type": "code",
   "execution_count": 2,
   "metadata": {},
   "outputs": [
    {
     "name": "stdout",
     "output_type": "stream",
     "text": [
      "[('all', 'quantity', 'players'), ('the', 'det', 'players'), ('players', 'nsubj', 'scored'), ('scored', 'ROOT', 'scored'), ('goal', 'osubj', 'scored')]\n",
      "Saved model to modelsss\n",
      "Loading from modelsss\n",
      "Dependencies [('all', 'quantity', 'players'), ('the', 'det', 'players'), ('players', 'nsubj', 'scored'), ('scored', 'ROOT', 'scored'), ('a', '-', 'scored'), ('goal', 'osubj', 'scored')]\n"
     ]
    }
   ],
   "source": [
    "# training data\n",
    "TRAINING_DATA = [\n",
    "(\"few people attended the meeting\", {\n",
    "    'heads': [1, 2, 2, 2, 2], \n",
    "    'deps': ['quantity', 'nsubj', 'ROOT', 'det', 'osubj']\n",
    "    }),\n",
    "    (\"many students passed the exam\", {\n",
    "    'heads': [1, 2, 2, 2, 2], \n",
    "    'deps': ['quantity', 'nsubj', 'ROOT', 'det', 'osubj']\n",
    "    }),\n",
    "    (\"some items were missing from the list\", {\n",
    "    'heads': [1, 2, 3, 3, 3, 3, 3], \n",
    "    'deps': ['quantity', 'nsubj', 'ROOT', 'ROOT', '-', 'det', 'osubj']\n",
    "    }),\n",
    "    (\"all the participants received a certificate\", {\n",
    "    'heads': [2, 2, 2, 3, 3, 3], \n",
    "    'deps': ['quantity', 'det', 'nsubj', 'ROOT', '-', 'osubj']\n",
    "    }),\n",
    "    (\"half of the pizza is gone\", {\n",
    "    'heads': [3, 3, 3, 4, 4, 4], \n",
    "    'deps': ['quantity', '-', 'det', 'nsubj', 'ROOT', 'ROOT']\n",
    "    }),\n",
    "    (\"the whole team worked together\", {\n",
    "    'heads': [1, 2, 3, 3, 3], \n",
    "    'deps': ['det','quantity', 'nsubj', 'ROOT', '-']\n",
    "    }),\n",
    "    (\"numerous books filled the shelves\", {\n",
    "    'heads': [1, 2, 2, 2, 2], \n",
    "    'deps': ['quantity', 'nsubj', 'ROOT', 'det', 'osubj']\n",
    "    }),\n",
    "    (\"some students completed all the assignments\", {\n",
    "    'heads': [1, 2, 2, 5, 5, 5], \n",
    "    'deps': ['quantity', 'nsubj', 'ROOT', 'quantity', 'det', 'osubj']\n",
    "    }),\n",
    "    (\"There were enough chairs for everyone\", {\n",
    "    'heads': [0, 2, 3, 3, 5, 5], \n",
    "    'deps': [\"expl\", \"ROOT\", \"quantity\", \"nsubj\", \"prep\", \"pobj\"]}),\n",
    "\n",
    "]\n",
    "\n",
    "\n",
    "\n",
    "nlp_pars = spacy.load(\"en_core_web_sm\")\n",
    "# Load a blank English model\n",
    "nlp_pars = spacy.blank(\"en\")\n",
    "parser = nlp_pars.add_pipe(\"parser\")\n",
    "\n",
    "for text, annotations in TRAINING_DATA:\n",
    "    for dep in annotations.get('deps', []):\n",
    "        parser.add_label(dep)\n",
    "\n",
    "other_pipes = [pipe for pipe in nlp_pars.pipe_names if pipe != 'parser']\n",
    "with nlp_pars.disable_pipes(*other_pipes): # only train parser\n",
    "    optimizer = nlp_pars.begin_training()\n",
    "    for itn in range(20):\n",
    "        random.shuffle(TRAINING_DATA)\n",
    "        losses = {}\n",
    "        for text, annotations in TRAINING_DATA:\n",
    "            doc = nlp_pars.make_doc(text)\n",
    "            example = Example.from_dict(doc, annotations)\n",
    "            nlp_pars.update([example], sgd=optimizer)\n",
    "        #print(losses)\n",
    "\n",
    "# test the trained model\n",
    "test_text = \"all the players scored a goal\"\n",
    "doc = nlp_pars(test_text)\n",
    "print([(t.text, t.dep_, t.head.text) for t in doc if t.dep_ != '-'])\n",
    "\n",
    "output_dir = Path(\"./modelsss\")\n",
    "if output_dir is not None:\n",
    "    output_dir = Path(output_dir)\n",
    "    if not output_dir.exists():\n",
    "        output_dir.mkdir()\n",
    "    nlp_pars.to_disk(output_dir)\n",
    "    print(\"Saved model to\", output_dir)\n",
    "    # test the saved model\n",
    "    print(\"Loading from\", output_dir)\n",
    "    nlp22 = spacy.load(output_dir)\n",
    "    doc = nlp22(test_text)\n",
    "    print('Dependencies', [(t.text, t.dep_, t.head.text) for t in doc])\n",
    "\n",
    "\n",
    "\n"
   ]
  },
  {
   "cell_type": "code",
   "execution_count": null,
   "metadata": {},
   "outputs": [],
   "source": []
  }
 ],
 "metadata": {
  "kernelspec": {
   "display_name": "Python 3",
   "language": "python",
   "name": "python3"
  },
  "language_info": {
   "codemirror_mode": {
    "name": "ipython",
    "version": 3
   },
   "file_extension": ".py",
   "mimetype": "text/x-python",
   "name": "python",
   "nbconvert_exporter": "python",
   "pygments_lexer": "ipython3",
   "version": "3.11.5"
  }
 },
 "nbformat": 4,
 "nbformat_minor": 2
}
