{
 "cells": [
  {
   "cell_type": "code",
   "execution_count": 1,
   "metadata": {},
   "outputs": [],
   "source": [
    "import spacy\n",
    "from collections import Counter\n",
    "nlp = spacy.load(\"en_core_web_sm\")"
   ]
  },
  {
   "cell_type": "code",
   "execution_count": 2,
   "metadata": {},
   "outputs": [
    {
     "name": "stdout",
     "output_type": "stream",
     "text": [
      "this is ne in 1998 ! <<< 6\n",
      "this --> 0\n",
      "is --> 5\n",
      "ne --> 8\n",
      "in --> 11\n",
      "1998 --> 14\n",
      "! --> 19\n"
     ]
    }
   ],
   "source": [
    "doc = nlp(\"this is ne in 1998 !\")\n",
    "print(doc, \"<<<\",len(doc))\n",
    "\n",
    "for token in doc:\n",
    "    print(token.text, \"-->\", token.idx)\n",
    "    \n"
   ]
  },
  {
   "cell_type": "code",
   "execution_count": 17,
   "metadata": {},
   "outputs": [
    {
     "name": "stdout",
     "output_type": "stream",
     "text": [
      "Mon Text\n",
      "he Helped is here, this is from Algeria impossible loading loader universal hamza universal ! ! ?\n",
      "Text netoyé::\n",
      "load load univers univers\n"
     ]
    }
   ],
   "source": [
    "def nettoyage(texte):\n",
    "    lowertext = texte.lower()\n",
    "    doc = nlp(lowertext)\n",
    "    #lowertext = ' '.join(token.text.lower() for token in doc)\n",
    "    #mots = doc.split()\n",
    "    mots_vides= nlp.Defaults.stop_words \n",
    "    nv_mots=[]\n",
    "    for token in doc:\n",
    "        if (token.text not in mots_vides) and (token.is_punct == False):\n",
    "            if token.text.endswith(\"ait\") or token.text.endswith(\"ing\"):\n",
    "                nv_mots.append(token.lemma_[:-3])  \n",
    "            elif token.text.endswith(\"er\") or token.text.endswith(\"al\"):\n",
    "                nv_mots.append(token.lemma_[:-2]) \n",
    "            else:\n",
    "                nv_mots.append(token.lemma_)\n",
    "    \n",
    "    mots_freq = Counter([mot for mot in nv_mots])\n",
    "    nouvelle_liste = [token for token in nv_mots if mots_freq[token] > 1]\n",
    "    nv_txt=\" \".join(nouvelle_liste)\n",
    "\n",
    "    return nv_txt\n",
    "\n",
    "texte= \"he Helped is here, this is from Algeria impossible loading loader universal hamza universal ! ! ?\"\n",
    "x=nettoyage(texte)\n",
    "print(\"Mon Text\")\n",
    "print(texte)\n",
    "print(\"Text netoyé::\")\n",
    "print(x)\n",
    "    \n",
    "    \n",
    "\n",
    "    \n",
    "\n",
    "\n"
   ]
  },
  {
   "cell_type": "code",
   "execution_count": 68,
   "metadata": {},
   "outputs": [
    {
     "name": "stdout",
     "output_type": "stream",
     "text": [
      "déconnecté , déstabiliser , prévoir , affirmer , beauté , couramment\n"
     ]
    }
   ],
   "source": [
    "import spacy\n",
    "\n",
    "# Charger le modèle spaCy\n",
    "nlp = spacy.load(\"fr_core_news_sm\")\n",
    "\n",
    "# Votre texte\n",
    "text = \"déconnecté, déstabiliser, prévoir, affirmer, beauté, couramment\"\n",
    "\n",
    "# Traitement du texte avec spaCy\n",
    "doc = nlp(text)\n",
    "\n",
    "# Supprimer les préfixes et suffixes en fonction de l'analyse morphologique\n",
    "nouveau_texte = []\n",
    "for token in doc:\n",
    "    if token.morph.get(\"Prefix\") or token.morph.get(\"Suffix\"):\n",
    "        nouveau_texte.append(token.lemma_)\n",
    "    else:\n",
    "        nouveau_texte.append(token.text)\n",
    "\n",
    "nouveau_texte = \" \".join(nouveau_texte)\n",
    "\n",
    "# Afficher le nouveau texte\n",
    "print(nouveau_texte)\n",
    "\n",
    "\n",
    "##############################################\n",
    "\n",
    "# Charger le modèle spaCy pour le français\n",
    "nlp = spacy.load(\"en_core_web_sm\")\n",
    "\n",
    "# Votre texte\n",
    "text = \"I having university\"\n",
    "\n",
    "# Traitement du texte avec spaCy\n",
    "doc = nlp(text)\n",
    "\n",
    "# Obtenir les lemmes des mots\n",
    "lemmatized_text = ' '.join(token.lemma_ for token in doc)\n",
    "\n",
    "# Afficher le texte lemmatisé\n",
    "print(lemmatized_text)\n",
    "\n",
    "###########################################\n",
    "\n",
    "# Texte d'exemple\n",
    "texte = \"Ceci est un exemple de texte en Python. Supprimons quelques mots.\"\n",
    "doc = nlp(texte)\n",
    "# Liste de mots à supprimer\n",
    "mots_a_supprimer = [\"est\", \"de\", \"en\", \"quelques\"]\n",
    "\n",
    "\n",
    "# Divisez le texte en mots\n",
    "mots = texte.split()\n",
    "\n",
    "# Créez une nouvelle liste de mots en excluant les mots à supprimer\n",
    "nouveaux_mots = [mot for mot in mots if mot.lower() not in mots_a_supprimer]\n",
    "# Filtrer les mots vides\n",
    "mots_non_vids = [mot.text for mot in doc if not mot.is_stop]\n",
    "\n",
    "# Rejoignez les mots pour former une nouvelle chaîne de texte\n",
    "nouveau_texte = \" \".join(mots_non_vids)\n",
    "\n",
    "# Affichez le texte mis à jour\n",
    "print(texte)\n",
    "print(nouveau_texte)"
   ]
  },
  {
   "cell_type": "code",
   "execution_count": null,
   "metadata": {},
   "outputs": [],
   "source": [
    "\n"
   ]
  }
 ],
 "metadata": {
  "kernelspec": {
   "display_name": "Python 3",
   "language": "python",
   "name": "python3"
  },
  "language_info": {
   "codemirror_mode": {
    "name": "ipython",
    "version": 3
   },
   "file_extension": ".py",
   "mimetype": "text/x-python",
   "name": "python",
   "nbconvert_exporter": "python",
   "pygments_lexer": "ipython3",
   "version": "3.11.2"
  }
 },
 "nbformat": 4,
 "nbformat_minor": 2
}
